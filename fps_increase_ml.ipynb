{
  "nbformat": 4,
  "nbformat_minor": 0,
  "metadata": {
    "colab": {
      "provenance": [],
      "gpuType": "T4",
      "authorship_tag": "ABX9TyOycNpBWmqOLYryJywfHXzh",
      "include_colab_link": true
    },
    "kernelspec": {
      "name": "python3",
      "display_name": "Python 3"
    },
    "language_info": {
      "name": "python"
    },
    "accelerator": "GPU"
  },
  "cells": [
    {
      "cell_type": "markdown",
      "metadata": {
        "id": "view-in-github",
        "colab_type": "text"
      },
      "source": [
        "<a href=\"https://colab.research.google.com/github/rigel08/fps-increase-ml/blob/main/fps_increase_ml.ipynb\" target=\"_parent\"><img src=\"https://colab.research.google.com/assets/colab-badge.svg\" alt=\"Open In Colab\"/></a>"
      ]
    },
    {
      "cell_type": "code",
      "execution_count": 9,
      "metadata": {
        "colab": {
          "base_uri": "https://localhost:8080/"
        },
        "id": "8QwWA6V46ozf",
        "outputId": "7d3b953d-8a94-4757-cc7b-d7a778dc521b"
      },
      "outputs": [
        {
          "output_type": "stream",
          "name": "stdout",
          "text": [
            "Requirement already satisfied: torch in /usr/local/lib/python3.10/dist-packages (2.4.1+cu121)\n",
            "Requirement already satisfied: torchvision in /usr/local/lib/python3.10/dist-packages (0.19.1+cu121)\n",
            "Requirement already satisfied: opencv-python-headless in /usr/local/lib/python3.10/dist-packages (4.10.0.84)\n",
            "Requirement already satisfied: filelock in /usr/local/lib/python3.10/dist-packages (from torch) (3.16.1)\n",
            "Requirement already satisfied: typing-extensions>=4.8.0 in /usr/local/lib/python3.10/dist-packages (from torch) (4.12.2)\n",
            "Requirement already satisfied: sympy in /usr/local/lib/python3.10/dist-packages (from torch) (1.13.3)\n",
            "Requirement already satisfied: networkx in /usr/local/lib/python3.10/dist-packages (from torch) (3.3)\n",
            "Requirement already satisfied: jinja2 in /usr/local/lib/python3.10/dist-packages (from torch) (3.1.4)\n",
            "Requirement already satisfied: fsspec in /usr/local/lib/python3.10/dist-packages (from torch) (2024.6.1)\n",
            "Requirement already satisfied: numpy in /usr/local/lib/python3.10/dist-packages (from torchvision) (1.26.4)\n",
            "Requirement already satisfied: pillow!=8.3.*,>=5.3.0 in /usr/local/lib/python3.10/dist-packages (from torchvision) (10.4.0)\n",
            "Requirement already satisfied: MarkupSafe>=2.0 in /usr/local/lib/python3.10/dist-packages (from jinja2->torch) (2.1.5)\n",
            "Requirement already satisfied: mpmath<1.4,>=1.1.0 in /usr/local/lib/python3.10/dist-packages (from sympy->torch) (1.3.0)\n"
          ]
        }
      ],
      "source": [
        "!pip install torch torchvision opencv-python-headless"
      ]
    },
    {
      "cell_type": "code",
      "source": [
        "import torch\n",
        "import torch.nn as nn\n",
        "import torch.optim as optim\n",
        "from torch.utils.data import Dataset, DataLoader\n",
        "import cv2\n",
        "import numpy as np\n",
        "import os\n",
        "from google.colab import files, drive\n",
        "from IPython.display import display, HTML\n",
        "from tqdm import tqdm\n",
        "\n",
        "# Mount Google Drive\n",
        "drive.mount('/content/drive')\n",
        "\n",
        "device = torch.device(\"cuda\" if torch.cuda.is_available() else \"cpu\")\n",
        "print(f\"Using device: {device}\")\n",
        "\n",
        "# ... [Previous FPSIncreaseNet, VideoFrameDataset, and other function definitions remain the same]\n",
        "\n",
        "def save_model(model, path):\n",
        "    torch.save(model.state_dict(), path)\n",
        "    print(f\"Model saved to {path}\")\n",
        "\n",
        "def load_model(model, path):\n",
        "    model.load_state_dict(torch.load(path))\n",
        "    model.eval()\n",
        "    print(f\"Model loaded from {path}\")\n",
        "    return model\n",
        "\n",
        "# ... [Previous blend_frames, increase_fps, upload_video, and download_video functions remain the same]\n",
        "\n",
        "def train_new_model():\n",
        "    model = FPSIncreaseNet().to(device)\n",
        "\n",
        "    print(\"Please upload your training video file.\")\n",
        "    input_video = upload_video()\n",
        "    input_path = f\"/content/{input_video}\"\n",
        "\n",
        "    dataset = VideoFrameDataset(input_path)\n",
        "    train_loader = DataLoader(dataset, batch_size=8, shuffle=True, num_workers=2)\n",
        "\n",
        "    print(\"Training the model...\")\n",
        "    train_model(model, train_loader, num_epochs=2)\n",
        "\n",
        "    model_path = \"/content/drive/MyDrive/fps_increase_model.pth\"\n",
        "    save_model(model, model_path)\n",
        "\n",
        "    return model_path\n",
        "\n",
        "def use_existing_model():\n",
        "    model = FPSIncreaseNet().to(device)\n",
        "    model_path = \"/content/drive/MyDrive/fps_increase_model.pth\"\n",
        "\n",
        "    if not os.path.exists(model_path):\n",
        "        print(\"No existing model found. Please train a new model.\")\n",
        "        return None\n",
        "\n",
        "    load_model(model, model_path)\n",
        "    return model_path\n",
        "\n",
        "def process_video(model_path):\n",
        "    model = FPSIncreaseNet().to(device)\n",
        "    load_model(model, model_path)\n",
        "\n",
        "    print(\"Please upload the video you want to process.\")\n",
        "    input_video = upload_video()\n",
        "    input_path = f\"/content/{input_video}\"\n",
        "    output_path = f\"/content/drive/MyDrive/output_{input_video}\"\n",
        "\n",
        "    print(\"Increasing FPS of the video...\")\n",
        "    increase_fps(model, input_path, output_path)\n",
        "\n",
        "    print(\"Processing complete. The output video has been saved to your Google Drive.\")\n",
        "    print(f\"You can find it at: {output_path}\")\n",
        "\n",
        "if __name__ == \"__main__\":\n",
        "    while True:\n",
        "        choice = input(\"Do you want to (1) train a new model, (2) use an existing model, or (3) quit? Enter 1, 2, or 3: \")\n",
        "\n",
        "        if choice == '1':\n",
        "            model_path = train_new_model()\n",
        "            process_video(model_path)\n",
        "        elif choice == '2':\n",
        "            model_path = use_existing_model()\n",
        "            if model_path:\n",
        "                process_video(model_path)\n",
        "        elif choice == '3':\n",
        "            print(\"Exiting the program.\")\n",
        "            break\n",
        "        else:\n",
        "            print(\"Invalid choice. Please enter 1, 2, or 3.\")"
      ],
      "metadata": {
        "colab": {
          "base_uri": "https://localhost:8080/"
        },
        "id": "_sdO1XO-6rET",
        "outputId": "610708de-dfb9-4c8a-d0e8-4a159675ebff"
      },
      "execution_count": null,
      "outputs": [
        {
          "output_type": "stream",
          "name": "stdout",
          "text": [
            "Mounted at /content/drive\n",
            "Using device: cuda\n"
          ]
        }
      ]
    },
    {
      "cell_type": "code",
      "source": [],
      "metadata": {
        "id": "5Z5VoUlrtsl2"
      },
      "execution_count": null,
      "outputs": []
    }
  ]
}